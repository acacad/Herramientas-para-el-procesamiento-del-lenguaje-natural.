{
 "cells": [
  {
   "cell_type": "markdown",
   "id": "940c6dbc",
   "metadata": {
    "id": "940c6dbc"
   },
   "source": [
    "## TC3007B\n",
    "### Natural Language Processing\n",
    "\n",
    "<br>\n",
    "\n",
    "#### Activity 2: Text Classification using RNNs and AG_NEWS dataset in PyTorch\n",
    "<br>\n",
    "\n",
    "- Objective:\n",
    "    - Understand the basics of Recurrent Neural Networks (RNNs) and their application in text classification.\n",
    "    - Learn how to handle a real-world text dataset, AG_NEWS, in PyTorch.\n",
    "    - Gain hands-on experience in defining, training, and evaluating a text classification model in PyTorch.\n",
    "    \n",
    "<br>\n",
    "\n",
    "- Instructions:\n",
    "    - Data Preparation: Starter code will be provided that loads the AG_NEWS dataset and prepares it for training. Do not modify this part. However, you should be sure to understand it, and comment it, the use of markdown cells is suggested.\n",
    "\n",
    "    - Model Setup: A skeleton code for the RNN model class will be provided. Complete this class and use it to instantiate your model.\n",
    "\n",
    "    - Implementing Accuracy Function: Write a function that takes model predictions and ground truth labels as input and returns the model's accuracy.\n",
    "\n",
    "    - Training Function: Implement a function that performs training on the given model using the AG_NEWS dataset. Your model should achieve an accuracy of at least 80% to get full marks for this part.\n",
    "\n",
    "    - Text Sampling: Write a function that takes a sample text as input and classifies it using your trained model.\n",
    "\n",
    "    - Confusion Matrix: Implement a function to display the confusion matrix for your model on the test data.\n",
    "\n",
    "    - Submission: Submit your completed Jupyter Notebook. Make sure to include a markdown cell at the beginning of the notebook that lists the names of all team members. Teams should consist of 3 to 4 members.\n",
    "    \n",
    "<br>\n",
    "\n",
    "- Evaluation Criteria:\n",
    "\n",
    "    - Correct setup of all the required libraries and modules (10%)\n",
    "    - Code Quality (30%): Your code should be well-organized, clearly commented, and easy to follow. Use also markdown cells for clarity. Comments should be given for all the provided code, this will help you understand its functionality.\n",
    "    \n",
    "   - Functionality (60%):\n",
    "        - All the functions should execute without errors and provide the expected outputs.\n",
    "        - RNN model class (20%)\n",
    "        - Accuracy fucntion (10%)\n",
    "        - Training function (10%)\n",
    "        - Sampling function (10%)\n",
    "        - Confucion matrix (10%)\n",
    "\n",
    "        - The model should achieve at least an 80% accuracy on the AG_NEWS test set for full marks in this criterion.\n"
   ]
  },
  {
   "cell_type": "markdown",
   "id": "4de318da",
   "metadata": {
    "id": "4de318da"
   },
   "source": [
    "Dataset\n",
    "\n",
    "https://pytorch.org/text/stable/datasets.html#text-classification\n",
    "\n",
    "https://paperswithcode.com/dataset/ag-news\n"
   ]
  },
  {
   "cell_type": "markdown",
   "id": "4a9801f9",
   "metadata": {
    "id": "4a9801f9"
   },
   "source": [
    "#### Install libraries (if needed)"
   ]
  },
  {
   "cell_type": "markdown",
   "id": "97QE07qUQXN4",
   "metadata": {
    "id": "97QE07qUQXN4"
   },
   "source": [
    "You may need to install the following libraries to ensure version compatibility. After installing them, please Restart the Session (Runtime -> Restart Session)"
   ]
  },
  {
   "cell_type": "code",
   "execution_count": 175,
   "id": "54394f53",
   "metadata": {
    "colab": {
     "base_uri": "https://localhost:8080/"
    },
    "executionInfo": {
     "elapsed": 197855,
     "status": "ok",
     "timestamp": 1730926937697,
     "user": {
      "displayName": "José Antonio Cantoral Ceballos",
      "userId": "04961139803161381162"
     },
     "user_tz": 360
    },
    "id": "54394f53",
    "outputId": "01dd9e91-176b-4879-f052-aaf17a90ef72"
   },
   "outputs": [
    {
     "name": "stdout",
     "output_type": "stream",
     "text": [
      "^C\n"
     ]
    },
    {
     "name": "stdout",
     "output_type": "stream",
     "text": [
      "Defaulting to user installation because normal site-packages is not writeable\n",
      "Requirement already satisfied: torch==2.0.1 in c:\\users\\peblo\\appdata\\roaming\\python\\python310\\site-packages (2.0.1+cu118)\n",
      "Requirement already satisfied: torchvision==0.15.2 in c:\\users\\peblo\\appdata\\roaming\\python\\python310\\site-packages (0.15.2+cu118)\n",
      "Requirement already satisfied: torchaudio==2.0.2 in c:\\users\\peblo\\appdata\\roaming\\python\\python310\\site-packages (2.0.2+cu118)\n",
      "Requirement already satisfied: torchtext==0.15.2 in c:\\users\\peblo\\appdata\\roaming\\python\\python310\\site-packages (0.15.2)\n",
      "Requirement already satisfied: filelock in c:\\users\\peblo\\appdata\\roaming\\python\\python310\\site-packages (from torch==2.0.1) (3.12.3)\n",
      "Requirement already satisfied: typing-extensions in c:\\users\\peblo\\appdata\\roaming\\python\\python310\\site-packages (from torch==2.0.1) (4.12.2)\n",
      "Requirement already satisfied: sympy in c:\\users\\peblo\\appdata\\roaming\\python\\python310\\site-packages (from torch==2.0.1) (1.13.1)\n",
      "Requirement already satisfied: networkx in c:\\users\\peblo\\appdata\\roaming\\python\\python310\\site-packages (from torch==2.0.1) (3.1)\n",
      "Requirement already satisfied: jinja2 in c:\\users\\peblo\\appdata\\roaming\\python\\python310\\site-packages (from torch==2.0.1) (3.1.2)\n",
      "Requirement already satisfied: numpy in c:\\users\\peblo\\appdata\\roaming\\python\\python310\\site-packages (from torchvision==0.15.2) (1.25.2)\n",
      "Requirement already satisfied: requests in c:\\users\\peblo\\appdata\\roaming\\python\\python310\\site-packages (from torchvision==0.15.2) (2.31.0)\n",
      "Requirement already satisfied: pillow!=8.3.*,>=5.3.0 in c:\\users\\peblo\\appdata\\roaming\\python\\python310\\site-packages (from torchvision==0.15.2) (10.4.0)\n",
      "Requirement already satisfied: tqdm in c:\\users\\peblo\\appdata\\roaming\\python\\python310\\site-packages (from torchtext==0.15.2) (4.66.1)\n",
      "Requirement already satisfied: torchdata==0.6.1 in c:\\users\\peblo\\appdata\\roaming\\python\\python310\\site-packages (from torchtext==0.15.2) (0.6.1)\n",
      "Requirement already satisfied: urllib3>=1.25 in c:\\users\\peblo\\appdata\\roaming\\python\\python310\\site-packages (from torchdata==0.6.1->torchtext==0.15.2) (2.0.4)\n",
      "Requirement already satisfied: MarkupSafe>=2.0 in c:\\users\\peblo\\appdata\\roaming\\python\\python310\\site-packages (from jinja2->torch==2.0.1) (2.1.3)\n",
      "Requirement already satisfied: charset-normalizer<4,>=2 in c:\\users\\peblo\\appdata\\roaming\\python\\python310\\site-packages (from requests->torchvision==0.15.2) (3.2.0)\n",
      "Requirement already satisfied: idna<4,>=2.5 in c:\\users\\peblo\\appdata\\roaming\\python\\python310\\site-packages (from requests->torchvision==0.15.2) (3.4)\n",
      "Requirement already satisfied: certifi>=2017.4.17 in c:\\users\\peblo\\appdata\\roaming\\python\\python310\\site-packages (from requests->torchvision==0.15.2) (2023.7.22)\n",
      "Requirement already satisfied: mpmath<1.4,>=1.1.0 in c:\\users\\peblo\\appdata\\roaming\\python\\python310\\site-packages (from sympy->torch==2.0.1) (1.3.0)\n",
      "Requirement already satisfied: colorama in c:\\users\\peblo\\appdata\\roaming\\python\\python310\\site-packages (from tqdm->torchtext==0.15.2) (0.4.4)\n"
     ]
    },
    {
     "name": "stderr",
     "output_type": "stream",
     "text": [
      "\n",
      "[notice] A new release of pip is available: 24.2 -> 24.3.1\n",
      "[notice] To update, run: python.exe -m pip install --upgrade pip\n"
     ]
    }
   ],
   "source": [
    "!pip install torch==2.0.1 torchvision==0.15.2 torchaudio==2.0.2 torchtext==0.15.2"
   ]
  },
  {
   "cell_type": "code",
   "execution_count": null,
   "id": "3m9B33A8QOiI",
   "metadata": {
    "colab": {
     "base_uri": "https://localhost:8080/",
     "height": 919
    },
    "executionInfo": {
     "elapsed": 19793,
     "status": "ok",
     "timestamp": 1730927022196,
     "user": {
      "displayName": "José Antonio Cantoral Ceballos",
      "userId": "04961139803161381162"
     },
     "user_tz": 360
    },
    "id": "3m9B33A8QOiI",
    "outputId": "252d46f9-a554-4b2e-e736-9c7db762ae5c"
   },
   "outputs": [],
   "source": [
    "!pip install scipy==1.9.3\n",
    "!pip install scikit-plot\n",
    "#you may receive a message of restarting session, this is OK"
   ]
  },
  {
   "cell_type": "code",
   "execution_count": null,
   "id": "SfzuGL4LQRGc",
   "metadata": {
    "colab": {
     "base_uri": "https://localhost:8080/"
    },
    "executionInfo": {
     "elapsed": 3492,
     "status": "ok",
     "timestamp": 1730927048021,
     "user": {
      "displayName": "José Antonio Cantoral Ceballos",
      "userId": "04961139803161381162"
     },
     "user_tz": 360
    },
    "id": "SfzuGL4LQRGc",
    "outputId": "5302fbaf-e902-42d0-fb30-96a31ae86d19"
   },
   "outputs": [],
   "source": [
    "!pip install portalocker\n",
    "#please restar session after this intallation. After restarting go straight to importing the libraries"
   ]
  },
  {
   "cell_type": "markdown",
   "id": "9IUa6uRqQtGu",
   "metadata": {
    "id": "9IUa6uRqQtGu"
   },
   "source": [
    "## Import libraries"
   ]
  },
  {
   "cell_type": "code",
   "execution_count": 232,
   "id": "878b524f",
   "metadata": {
    "executionInfo": {
     "elapsed": 7208,
     "status": "ok",
     "timestamp": 1730927094550,
     "user": {
      "displayName": "José Antonio Cantoral Ceballos",
      "userId": "04961139803161381162"
     },
     "user_tz": 360
    },
    "id": "878b524f"
   },
   "outputs": [],
   "source": [
    "# The following libraries are required for running the given code\n",
    "# Please feel free to add any libraries you consider adecuate to complete the assingment.\n",
    "import numpy as np\n",
    "#PyTorch libraries\n",
    "import torch\n",
    "from torchtext.datasets import AG_NEWS\n",
    "# Dataloader library\n",
    "from torch.utils.data import DataLoader\n",
    "from torch.utils.data.dataset import random_split\n",
    "# Libraries to prepare the data\n",
    "from torchtext.data.utils import get_tokenizer\n",
    "from torchtext.vocab import build_vocab_from_iterator\n",
    "from torchtext.data.functional import to_map_style_dataset\n",
    "# neural layers\n",
    "from torch import nn\n",
    "from torch.nn import functional as F\n",
    "\n",
    "# These libraries are suggested to plot confusion matrix\n",
    "# you may use others\n",
    "import scikitplot as skplt\n",
    "import random\n",
    "import gc\n",
    "\n",
    "from tqdm import tqdm"
   ]
  },
  {
   "cell_type": "code",
   "execution_count": 2,
   "id": "3bab55f3",
   "metadata": {
    "colab": {
     "base_uri": "https://localhost:8080/"
    },
    "executionInfo": {
     "elapsed": 159,
     "status": "ok",
     "timestamp": 1730927097048,
     "user": {
      "displayName": "José Antonio Cantoral Ceballos",
      "userId": "04961139803161381162"
     },
     "user_tz": 360
    },
    "id": "3bab55f3",
    "outputId": "ceeb9cf1-327b-4c48-deda-c550651803ec"
   },
   "outputs": [
    {
     "name": "stdout",
     "output_type": "stream",
     "text": [
      "cuda\n"
     ]
    }
   ],
   "source": [
    "# Use GPU if available\n",
    "device = torch.device(\"cuda\" if torch.cuda.is_available() else \"cpu\")\n",
    "print(device)"
   ]
  },
  {
   "cell_type": "markdown",
   "id": "3d38956d",
   "metadata": {
    "id": "3d38956d"
   },
   "source": [
    "### Get the train and the test datasets and dataloaders"
   ]
  },
  {
   "cell_type": "markdown",
   "id": "e9c6b784",
   "metadata": {
    "id": "e9c6b784"
   },
   "source": [
    "Classes:\n",
    "\n",
    "* 1 - World\n",
    "\n",
    "* 2 - Sports\n",
    "\n",
    "* 3 - Business\n",
    "\n",
    "* 4 - Sci/Tech\n",
    "\n",
    "We will convert them to:\n",
    "\n",
    "* 0 - World\n",
    "\n",
    "* 1 - Sports\n",
    "\n",
    "* 2 - Business\n",
    "\n",
    "* 3 - Sci/Tech"
   ]
  },
  {
   "cell_type": "code",
   "execution_count": 3,
   "id": "49fbed19",
   "metadata": {
    "executionInfo": {
     "elapsed": 5438,
     "status": "ok",
     "timestamp": 1730927105127,
     "user": {
      "displayName": "José Antonio Cantoral Ceballos",
      "userId": "04961139803161381162"
     },
     "user_tz": 360
    },
    "id": "49fbed19"
   },
   "outputs": [],
   "source": [
    "train_dataset, test_dataset = AG_NEWS()\n",
    "train_dataset, test_dataset = to_map_style_dataset(train_dataset), to_map_style_dataset(test_dataset)"
   ]
  },
  {
   "cell_type": "code",
   "execution_count": 4,
   "id": "9c372eb9",
   "metadata": {
    "executionInfo": {
     "elapsed": 226,
     "status": "ok",
     "timestamp": 1730927106939,
     "user": {
      "displayName": "José Antonio Cantoral Ceballos",
      "userId": "04961139803161381162"
     },
     "user_tz": 360
    },
    "id": "9c372eb9"
   },
   "outputs": [],
   "source": [
    "# Get the tokeniser\n",
    "# tokeniser object\n",
    "tokeniser = get_tokenizer('basic_english')\n",
    "\n",
    "def yield_tokens(data):\n",
    "    for _, text in data:\n",
    "        yield tokeniser(text)"
   ]
  },
  {
   "cell_type": "code",
   "execution_count": 5,
   "id": "794d0375",
   "metadata": {
    "executionInfo": {
     "elapsed": 6165,
     "status": "ok",
     "timestamp": 1730927114676,
     "user": {
      "displayName": "José Antonio Cantoral Ceballos",
      "userId": "04961139803161381162"
     },
     "user_tz": 360
    },
    "id": "794d0375"
   },
   "outputs": [],
   "source": [
    "# Build the vocabulary\n",
    "vocab = build_vocab_from_iterator(yield_tokens(train_dataset), specials=[\"<unk>\"])\n",
    "#set unknown token at position 0\n",
    "vocab.set_default_index(vocab[\"<unk>\"])"
   ]
  },
  {
   "cell_type": "code",
   "execution_count": 6,
   "id": "b48268d4",
   "metadata": {
    "colab": {
     "base_uri": "https://localhost:8080/"
    },
    "executionInfo": {
     "elapsed": 196,
     "status": "ok",
     "timestamp": 1730927117331,
     "user": {
      "displayName": "José Antonio Cantoral Ceballos",
      "userId": "04961139803161381162"
     },
     "user_tz": 360
    },
    "id": "b48268d4",
    "outputId": "f9c839a1-8598-41e9-c8a0-5e49ce5b5a9c"
   },
   "outputs": [
    {
     "name": "stdout",
     "output_type": "stream",
     "text": [
      "['welcome', 'to', 'tc3007b'] [3314, 4, 0]\n"
     ]
    }
   ],
   "source": [
    "#test tokens\n",
    "tokens = tokeniser('Welcome to TC3007B')\n",
    "print(tokens, vocab(tokens))"
   ]
  },
  {
   "cell_type": "code",
   "execution_count": 7,
   "id": "c8c8f6a6",
   "metadata": {
    "executionInfo": {
     "elapsed": 200,
     "status": "ok",
     "timestamp": 1730927118687,
     "user": {
      "displayName": "José Antonio Cantoral Ceballos",
      "userId": "04961139803161381162"
     },
     "user_tz": 360
    },
    "id": "c8c8f6a6"
   },
   "outputs": [],
   "source": [
    "NUM_TRAIN = int(len(train_dataset)*0.9)\n",
    "NUM_VAL = len(train_dataset) - NUM_TRAIN"
   ]
  },
  {
   "cell_type": "code",
   "execution_count": 8,
   "id": "8290895e",
   "metadata": {
    "executionInfo": {
     "elapsed": 142,
     "status": "ok",
     "timestamp": 1730927121582,
     "user": {
      "displayName": "José Antonio Cantoral Ceballos",
      "userId": "04961139803161381162"
     },
     "user_tz": 360
    },
    "id": "8290895e"
   },
   "outputs": [],
   "source": [
    "train_dataset, val_dataset = random_split(train_dataset, [NUM_TRAIN, NUM_VAL])"
   ]
  },
  {
   "cell_type": "code",
   "execution_count": 9,
   "id": "cbc75b54",
   "metadata": {
    "colab": {
     "base_uri": "https://localhost:8080/"
    },
    "executionInfo": {
     "elapsed": 161,
     "status": "ok",
     "timestamp": 1730927125276,
     "user": {
      "displayName": "José Antonio Cantoral Ceballos",
      "userId": "04961139803161381162"
     },
     "user_tz": 360
    },
    "id": "cbc75b54",
    "outputId": "471ffecd-8d50-4c0b-8ad8-eab70f80c40d"
   },
   "outputs": [
    {
     "name": "stdout",
     "output_type": "stream",
     "text": [
      "108000 12000 7600\n"
     ]
    }
   ],
   "source": [
    "print(len(train_dataset), len(val_dataset), len(test_dataset))"
   ]
  },
  {
   "cell_type": "code",
   "execution_count": 10,
   "id": "5eb459c7",
   "metadata": {
    "executionInfo": {
     "elapsed": 151,
     "status": "ok",
     "timestamp": 1730927128564,
     "user": {
      "displayName": "José Antonio Cantoral Ceballos",
      "userId": "04961139803161381162"
     },
     "user_tz": 360
    },
    "id": "5eb459c7"
   },
   "outputs": [],
   "source": [
    "labels =  [\"World\", \"Sports\", \"Business\", \"Sci/Tech\"]\n",
    "max_tokens = 50\n",
    "BATCH_SIZE = 256"
   ]
  },
  {
   "cell_type": "code",
   "execution_count": 11,
   "id": "ffdbf077",
   "metadata": {
    "executionInfo": {
     "elapsed": 160,
     "status": "ok",
     "timestamp": 1730927127379,
     "user": {
      "displayName": "José Antonio Cantoral Ceballos",
      "userId": "04961139803161381162"
     },
     "user_tz": 360
    },
    "id": "ffdbf077"
   },
   "outputs": [],
   "source": [
    "# function passed to the DataLoader to process a batch of data as indicated\n",
    "def collate_batch(batch):\n",
    "    # Get label and text\n",
    "    y, x = list(zip(*batch))\n",
    "\n",
    "    # Create list with indices from tokeniser\n",
    "    x = [vocab(tokeniser(text)) for text in x]\n",
    "    x = [t + ([0]*(max_tokens - len(t))) if len(t) < max_tokens else t[:max_tokens] for t in x]\n",
    "\n",
    "    # Prepare the labels, by subtracting 1 to get them in the range 0-3\n",
    "    return torch.tensor(x, dtype=torch.int64), torch.tensor(y, dtype=torch.int64) - 1"
   ]
  },
  {
   "cell_type": "code",
   "execution_count": 12,
   "id": "0a55e6ee",
   "metadata": {
    "executionInfo": {
     "elapsed": 178,
     "status": "ok",
     "timestamp": 1730927129681,
     "user": {
      "displayName": "José Antonio Cantoral Ceballos",
      "userId": "04961139803161381162"
     },
     "user_tz": 360
    },
    "id": "0a55e6ee"
   },
   "outputs": [],
   "source": [
    "train_loader = DataLoader(train_dataset, batch_size=BATCH_SIZE, collate_fn=collate_batch, shuffle = True)\n",
    "val_loader = DataLoader(val_dataset, batch_size=BATCH_SIZE, collate_fn=collate_batch, shuffle = True)\n",
    "test_loader = DataLoader(test_dataset, batch_size=BATCH_SIZE, collate_fn=collate_batch, shuffle = True)"
   ]
  },
  {
   "cell_type": "markdown",
   "id": "47b98898",
   "metadata": {
    "id": "47b98898"
   },
   "source": [
    "### Let us build our RNN model"
   ]
  },
  {
   "cell_type": "code",
   "execution_count": 13,
   "id": "50f20793",
   "metadata": {
    "executionInfo": {
     "elapsed": 193,
     "status": "ok",
     "timestamp": 1730927132530,
     "user": {
      "displayName": "José Antonio Cantoral Ceballos",
      "userId": "04961139803161381162"
     },
     "user_tz": 360
    },
    "id": "50f20793"
   },
   "outputs": [],
   "source": [
    "EMBEDDING_SIZE = 300\n",
    "NEURONS = 256\n",
    "LAYERS = 2\n",
    "NUM_CLASSES = 4"
   ]
  },
  {
   "cell_type": "code",
   "execution_count": 15,
   "id": "0f7f5621",
   "metadata": {
    "id": "0f7f5621",
    "outputId": "673b7ec3-7261-4848-fd8f-e1116533a8ba"
   },
   "outputs": [],
   "source": [
    "class RNN_Model_1(nn.Module):\n",
    "    def __init__(self, embed_size, hidden, layers, num_classes):\n",
    "        super().__init__()\n",
    "        self.embedding_layer = nn.Embedding(num_embeddings=len(vocab),\n",
    "                                            embedding_dim=embed_size)\n",
    "\n",
    "        self.rnn = nn.LSTM(embed_size, hidden, layers, batch_first=True)\n",
    "\n",
    "        self.fc = nn.Linear(hidden, num_classes) \n",
    "\n",
    "    def forward(self, x):\n",
    "        embedded = self.embedding_layer(x)\n",
    "        _, (h, _) = self.rnn(embedded)\n",
    "\n",
    "        last = h[-1]\n",
    "\n",
    "        out = self.fc(last)\n",
    "\n",
    "        return out\n"
   ]
  },
  {
   "cell_type": "code",
   "execution_count": 39,
   "id": "2a42613f",
   "metadata": {
    "code_folding": [],
    "id": "2a42613f"
   },
   "outputs": [],
   "source": [
    "def accuracy(model, loader):\n",
    "    model = model.to(device)\n",
    "    model.eval()\n",
    "\n",
    "    correct = 0\n",
    "    total = 0\n",
    "\n",
    "    with torch.no_grad():\n",
    "        for x, y in loader:\n",
    "            x, y = x.to(device), y.to(device)\n",
    "\n",
    "            preds = model(x)\n",
    "            predClasses = preds.argmax(dim=1)\n",
    "\n",
    "            correct += (predClasses == y).sum().item()\n",
    "            total += y.size(0)\n",
    "\n",
    "    return correct / total"
   ]
  },
  {
   "cell_type": "code",
   "execution_count": 16,
   "id": "5e843e1f",
   "metadata": {
    "code_folding": [],
    "id": "5e843e1f"
   },
   "outputs": [],
   "source": [
    "def train(model, optimiser, epochs=100):\n",
    "    model = model.to(device)\n",
    "    model.train()\n",
    "\n",
    "    def UpdateDesc(pbar, epoch, loss):\n",
    "        if loss == None:\n",
    "            pbar.set_description(f'(train): Epoch {epoch:2d}/{epochs} | Loss: {loss}')\n",
    "        else:\n",
    "            pbar.set_description(f'(train): Epoch {epoch:2d}/{epochs} | Loss: {loss:.4f}')\n",
    "\n",
    "\n",
    "    for epoch in range(1, epochs+1):\n",
    "        avgLoss = 0\n",
    "\n",
    "        pbar = tqdm(total=len(train_loader))\n",
    "        UpdateDesc(pbar, epoch, None)\n",
    "        for x, y in train_loader:\n",
    "            model.zero_grad()\n",
    "            \n",
    "            x=x.to(device) # x (batchsize, maxtokens)\n",
    "            y=y.to(device) # y (batchsize)\n",
    "            \n",
    "            preds = model(x) # (batchsize, maxtokens, numclasses)\n",
    "\n",
    "            batchLoss = F.cross_entropy(preds, y)\n",
    "\n",
    "            optimiser.zero_grad()\n",
    "            batchLoss.backward()\n",
    "            optimiser.step()\n",
    "\n",
    "            avgLoss += batchLoss.item() * x.size(0)\n",
    "\n",
    "            pbar.update(1)\n",
    "\n",
    "        avgLoss /= len(train_loader.dataset)\n",
    "        UpdateDesc(pbar, epoch, avgLoss)\n",
    "        pbar.close()\n",
    "        \n",
    "            \n",
    "            "
   ]
  },
  {
   "cell_type": "code",
   "execution_count": 17,
   "id": "87775b29",
   "metadata": {
    "id": "87775b29"
   },
   "outputs": [],
   "source": [
    "epochs = 69\n",
    "lr = 0.001\n",
    "\n",
    "rnn_model = RNN_Model_1(EMBEDDING_SIZE, NEURONS, LAYERS, NUM_CLASSES)\n",
    "optimiser = torch.optim.Adam(rnn_model.parameters(), lr=lr)\n"
   ]
  },
  {
   "cell_type": "code",
   "execution_count": 18,
   "id": "aec12a1b",
   "metadata": {
    "id": "aec12a1b",
    "scrolled": true
   },
   "outputs": [
    {
     "name": "stderr",
     "output_type": "stream",
     "text": [
      "(train): Epoch  1/69 | Loss: 0.6507: 100%|██████████| 422/422 [00:13<00:00, 30.73it/s]\n",
      "(train): Epoch  2/69 | Loss: 0.2979: 100%|██████████| 422/422 [00:12<00:00, 32.58it/s]\n",
      "(train): Epoch  3/69 | Loss: 0.2163: 100%|██████████| 422/422 [00:12<00:00, 32.98it/s]\n",
      "(train): Epoch  4/69 | Loss: 0.1595: 100%|██████████| 422/422 [00:12<00:00, 33.36it/s]\n",
      "(train): Epoch  5/69 | Loss: 0.1174: 100%|██████████| 422/422 [00:13<00:00, 31.35it/s]\n",
      "(train): Epoch  6/69 | Loss: 0.0877: 100%|██████████| 422/422 [00:12<00:00, 33.72it/s]\n",
      "(train): Epoch  7/69 | Loss: 0.0606: 100%|██████████| 422/422 [00:13<00:00, 31.36it/s]\n",
      "(train): Epoch  8/69 | Loss: 0.0452: 100%|██████████| 422/422 [00:12<00:00, 32.75it/s]\n",
      "(train): Epoch  9/69 | Loss: 0.0332: 100%|██████████| 422/422 [00:12<00:00, 32.83it/s]\n",
      "(train): Epoch 10/69 | Loss: 0.0288: 100%|██████████| 422/422 [00:12<00:00, 32.70it/s]\n",
      "(train): Epoch 11/69 | Loss: 0.0253: 100%|██████████| 422/422 [00:12<00:00, 32.67it/s]\n",
      "(train): Epoch 12/69 | Loss: 0.0168: 100%|██████████| 422/422 [00:12<00:00, 32.53it/s]\n",
      "(train): Epoch 13/69 | Loss: 0.0172: 100%|██████████| 422/422 [00:12<00:00, 32.84it/s]\n",
      "(train): Epoch 14/69 | Loss: 0.0144: 100%|██████████| 422/422 [00:12<00:00, 32.79it/s]\n",
      "(train): Epoch 15/69 | Loss: 0.0147: 100%|██████████| 422/422 [00:12<00:00, 32.86it/s]\n",
      "(train): Epoch 16/69 | Loss: 0.0102: 100%|██████████| 422/422 [00:12<00:00, 32.67it/s]\n",
      "(train): Epoch 17/69 | Loss: 0.0095: 100%|██████████| 422/422 [00:12<00:00, 32.78it/s]\n",
      "(train): Epoch 18/69 | Loss: 0.0109: 100%|██████████| 422/422 [00:12<00:00, 32.84it/s]\n",
      "(train): Epoch 19/69 | Loss: 0.0094: 100%|██████████| 422/422 [00:12<00:00, 32.86it/s]\n",
      "(train): Epoch 20/69 | Loss: 0.0090: 100%|██████████| 422/422 [00:12<00:00, 32.90it/s]\n",
      "(train): Epoch 21/69 | Loss: 0.0075: 100%|██████████| 422/422 [00:12<00:00, 32.85it/s]\n",
      "(train): Epoch 22/69 | Loss: 0.0071: 100%|██████████| 422/422 [00:12<00:00, 32.97it/s]\n",
      "(train): Epoch 23/69 | Loss: 0.0068: 100%|██████████| 422/422 [00:12<00:00, 32.78it/s]\n",
      "(train): Epoch 24/69 | Loss: 0.0062: 100%|██████████| 422/422 [00:12<00:00, 32.82it/s]\n",
      "(train): Epoch 25/69 | Loss: 0.0073: 100%|██████████| 422/422 [00:12<00:00, 33.21it/s]\n",
      "(train): Epoch 26/69 | Loss: 0.0060: 100%|██████████| 422/422 [00:12<00:00, 33.77it/s]\n",
      "(train): Epoch 27/69 | Loss: 0.0080: 100%|██████████| 422/422 [00:12<00:00, 33.92it/s]\n",
      "(train): Epoch 28/69 | Loss: 0.0051: 100%|██████████| 422/422 [00:12<00:00, 33.48it/s]\n",
      "(train): Epoch 29/69 | Loss: 0.0039: 100%|██████████| 422/422 [00:12<00:00, 33.70it/s]\n",
      "(train): Epoch 30/69 | Loss: 0.0035: 100%|██████████| 422/422 [00:12<00:00, 33.38it/s]\n",
      "(train): Epoch 31/69 | Loss: 0.0053: 100%|██████████| 422/422 [00:12<00:00, 33.27it/s]\n",
      "(train): Epoch 32/69 | Loss: 0.0050: 100%|██████████| 422/422 [00:12<00:00, 33.51it/s]\n",
      "(train): Epoch 33/69 | Loss: 0.0041: 100%|██████████| 422/422 [00:12<00:00, 33.93it/s]\n",
      "(train): Epoch 34/69 | Loss: 0.0032: 100%|██████████| 422/422 [00:12<00:00, 33.40it/s]\n",
      "(train): Epoch 35/69 | Loss: 0.0035: 100%|██████████| 422/422 [00:12<00:00, 33.92it/s]\n",
      "(train): Epoch 36/69 | Loss: 0.0043: 100%|██████████| 422/422 [00:12<00:00, 33.97it/s]\n",
      "(train): Epoch 37/69 | Loss: 0.0038: 100%|██████████| 422/422 [00:12<00:00, 33.73it/s]\n",
      "(train): Epoch 38/69 | Loss: 0.0046: 100%|██████████| 422/422 [00:12<00:00, 33.51it/s]\n",
      "(train): Epoch 39/69 | Loss: 0.0030: 100%|██████████| 422/422 [00:12<00:00, 33.42it/s]\n",
      "(train): Epoch 40/69 | Loss: 0.0028: 100%|██████████| 422/422 [00:13<00:00, 32.21it/s]\n",
      "(train): Epoch 41/69 | Loss: 0.0039: 100%|██████████| 422/422 [00:12<00:00, 33.52it/s]\n",
      "(train): Epoch 42/69 | Loss: 0.0034: 100%|██████████| 422/422 [00:12<00:00, 34.64it/s]\n",
      "(train): Epoch 43/69 | Loss: 0.0036: 100%|██████████| 422/422 [00:12<00:00, 35.06it/s]\n",
      "(train): Epoch 44/69 | Loss: 0.0033: 100%|██████████| 422/422 [00:11<00:00, 35.56it/s]\n",
      "(train): Epoch 45/69 | Loss: 0.0024: 100%|██████████| 422/422 [00:11<00:00, 35.30it/s]\n",
      "(train): Epoch 46/69 | Loss: 0.0019: 100%|██████████| 422/422 [00:11<00:00, 35.78it/s]\n",
      "(train): Epoch 47/69 | Loss: 0.0013: 100%|██████████| 422/422 [00:12<00:00, 34.68it/s]\n",
      "(train): Epoch 48/69 | Loss: 0.0029: 100%|██████████| 422/422 [00:12<00:00, 34.05it/s]\n",
      "(train): Epoch 49/69 | Loss: 0.0036: 100%|██████████| 422/422 [00:12<00:00, 33.91it/s]\n",
      "(train): Epoch 50/69 | Loss: 0.0053: 100%|██████████| 422/422 [00:12<00:00, 34.84it/s]\n",
      "(train): Epoch 51/69 | Loss: 0.0029: 100%|██████████| 422/422 [00:12<00:00, 33.92it/s]\n",
      "(train): Epoch 52/69 | Loss: 0.0016: 100%|██████████| 422/422 [00:12<00:00, 34.12it/s]\n",
      "(train): Epoch 53/69 | Loss: 0.0015: 100%|██████████| 422/422 [00:12<00:00, 34.30it/s]\n",
      "(train): Epoch 54/69 | Loss: 0.0013: 100%|██████████| 422/422 [00:12<00:00, 34.40it/s]\n",
      "(train): Epoch 55/69 | Loss: 0.0009: 100%|██████████| 422/422 [00:11<00:00, 35.48it/s]\n",
      "(train): Epoch 56/69 | Loss: 0.0027: 100%|██████████| 422/422 [00:12<00:00, 35.01it/s]\n",
      "(train): Epoch 57/69 | Loss: 0.0061: 100%|██████████| 422/422 [00:12<00:00, 35.04it/s]\n",
      "(train): Epoch 58/69 | Loss: 0.0029: 100%|██████████| 422/422 [00:12<00:00, 34.36it/s]\n",
      "(train): Epoch 59/69 | Loss: 0.0015: 100%|██████████| 422/422 [00:12<00:00, 34.87it/s]\n",
      "(train): Epoch 60/69 | Loss: 0.0011: 100%|██████████| 422/422 [00:12<00:00, 34.26it/s]\n",
      "(train): Epoch 61/69 | Loss: 0.0010: 100%|██████████| 422/422 [00:11<00:00, 35.65it/s]\n",
      "(train): Epoch 62/69 | Loss: 0.0008: 100%|██████████| 422/422 [00:12<00:00, 34.74it/s]\n",
      "(train): Epoch 63/69 | Loss: 0.0013: 100%|██████████| 422/422 [00:12<00:00, 34.92it/s]\n",
      "(train): Epoch 64/69 | Loss: 0.0047: 100%|██████████| 422/422 [00:11<00:00, 35.69it/s]\n",
      "(train): Epoch 65/69 | Loss: 0.0046: 100%|██████████| 422/422 [00:11<00:00, 35.47it/s]\n",
      "(train): Epoch 66/69 | Loss: 0.0018: 100%|██████████| 422/422 [00:12<00:00, 35.01it/s]\n",
      "(train): Epoch 67/69 | Loss: 0.0012: 100%|██████████| 422/422 [00:12<00:00, 34.87it/s]\n",
      "(train): Epoch 68/69 | Loss: 0.0009: 100%|██████████| 422/422 [00:12<00:00, 34.37it/s]\n",
      "(train): Epoch 69/69 | Loss: 0.0007: 100%|██████████| 422/422 [00:13<00:00, 32.41it/s]\n"
     ]
    }
   ],
   "source": [
    "train(rnn_model, optimiser=optimiser,  epochs=epochs)"
   ]
  },
  {
   "cell_type": "code",
   "execution_count": 40,
   "id": "7a3ef175",
   "metadata": {
    "id": "7a3ef175"
   },
   "outputs": [
    {
     "name": "stdout",
     "output_type": "stream",
     "text": [
      "0.9095\n"
     ]
    }
   ],
   "source": [
    "print(f'{accuracy(rnn_model, test_loader):.4f}')"
   ]
  },
  {
   "cell_type": "code",
   "execution_count": 84,
   "id": "6a5d968d",
   "metadata": {},
   "outputs": [
    {
     "name": "stdout",
     "output_type": "stream",
     "text": [
      "['World', 'Sports', 'Business', 'Sci/Tech']\n",
      "312\n",
      "torch.Size([50])\n"
     ]
    }
   ],
   "source": [
    "idx = random.randint(0, len(test_loader.dataset) - 1)\n",
    "_, text = test_loader.dataset[idx]\n",
    "print(labels)\n",
    "\n",
    "x = [vocab(tokeniser(word)) for word in text]\n",
    "print(len(x))\n",
    "x = [t + ([0]*(max_tokens - len(t))) if len(t) < max_tokens else t[:max_tokens] for t in x]\n",
    "\n",
    "x = torch.tensor(x, dtype=torch.int64)#, torch.tensor(y, dtype=torch.int64) - 1\n",
    "\n",
    "print(x[0].shape)\n"
   ]
  },
  {
   "cell_type": "code",
   "execution_count": 184,
   "id": "ed30693d",
   "metadata": {
    "id": "ed30693d"
   },
   "outputs": [],
   "source": [
    "def sample_text(model, loader):\n",
    "    model = model.to(device)\n",
    "\n",
    "    # Sample a random article from the dataset\n",
    "    dataset = loader.dataset\n",
    "    idx = random.randint(0, len(dataset) - 1)\n",
    "    label, text = dataset[idx]\n",
    "\n",
    "    # Tokenize the article\n",
    "    tokens = vocab(tokeniser(text))\n",
    "\n",
    "    if len(tokens) < max_tokens:\n",
    "        # Pad with zeros\n",
    "        tokens = tokens + ([0] * (max_tokens - len(tokens)))\n",
    "    else:\n",
    "        tokens = tokens[:max_tokens]\n",
    "\n",
    "    x = torch.tensor(tokens, dtype=torch.int64)\n",
    "    x = x.to(device)\n",
    "\n",
    "    # Get the prediction\n",
    "    with torch.no_grad():\n",
    "        predLabel = model(x).argmax().item()\n",
    "    \n",
    "    print('*****')\n",
    "    print(text)\n",
    "    print(f'Predicted: {labels[predLabel]}, Real: {labels[label - 1]}')"
   ]
  },
  {
   "cell_type": "code",
   "execution_count": 186,
   "id": "534f0220",
   "metadata": {
    "id": "534f0220"
   },
   "outputs": [
    {
     "name": "stdout",
     "output_type": "stream",
     "text": [
      "*****\n",
      "Older mobiles may cause tumours: study The Institute of Environmental Medicine (IMM) at Karolinska Institute in Sweden found no indications of risk for less than 10 years of usage.\n",
      "Predicted: Sci/Tech, Real: Sci/Tech\n",
      "*****\n",
      "US security official killed in Iraq attack A US security official, assigned to the US Embassy in Baghdad, was killed on Sunday by a mortar attack on a US Army base near Baghdad International Airport, US Secretary of State Colin Powell said.\n",
      "Predicted: World, Real: World\n",
      "*****\n",
      "webcrawler: A9.com is cool NOW heres something else thats off the mind. Theres no more need to make mental or computer notes while searching the Internet.\n",
      "Predicted: Sci/Tech, Real: Business\n",
      "*****\n",
      "AOL Dumping Some Broadband unsupported writes  quot;Just days after news that AOL will be breaking up into 4 business units, AOL is telling existing broadband customers in 9 Southern states to find a new carrier.\n",
      "Predicted: Sci/Tech, Real: Sci/Tech\n",
      "*****\n",
      "UPDATE: Air New Zealand Rights Issue Greeted Positively WELLINGTON (Dow Jones)--Air New Zealand Ltd. (AIR.NZ) said Wednesday it expects to post a slight drop in profit in the current financial year, and that it hopes to raise NZ\\$186 million in a rights issue next month to fund investment in new aircraft.\n",
      "Predicted: Business, Real: Business\n"
     ]
    }
   ],
   "source": [
    "for _ in range(5):\n",
    "    sample_text(rnn_model, test_loader)"
   ]
  },
  {
   "cell_type": "code",
   "execution_count": null,
   "id": "bb38e093",
   "metadata": {
    "id": "bb38e093"
   },
   "outputs": [
    {
     "data": {
      "text/plain": [
       "['World', 'Sports', 'Business', 'Sci/Tech']"
      ]
     },
     "execution_count": 268,
     "metadata": {},
     "output_type": "execute_result"
    },
    {
     "data": {
      "image/png": "[encoded data removed]",
      "text/plain": [
       "<Figure size 504x504 with 2 Axes>"
      ]
     },
     "metadata": {
      "needs_background": "light"
     },
     "output_type": "display_data"
    }
   ],
   "source": [
    "# create confusion matrix\n",
    "allLabels = []\n",
    "allPreds = []\n",
    "\n",
    "rnn_model = rnn_model.to(device)\n",
    "rnn_model.eval()\n",
    "\n",
    "for x, y in test_loader:\n",
    "    allLabels.append(y)\n",
    "    with torch.no_grad():\n",
    "        x = x.to(device)\n",
    "        allPreds.append(rnn_model(x).argmax(dim=1).to('cpu'))\n",
    "\n",
    "targets = torch.cat(allLabels, dim=0)\n",
    "preds   = torch.cat(allPreds, dim=0)\n",
    "\n",
    "skplt.metrics.plot_confusion_matrix(\n",
    "    targets,\n",
    "    preds,\n",
    "    figsize=(7,7)\n",
    ")\n",
    "\n",
    "labels"
   ]
  },
  {
   "cell_type": "code",
   "execution_count": null,
   "id": "e7d73f69",
   "metadata": {
    "id": "e7d73f69"
   },
   "outputs": [],
   "source": []
  },
  {
   "cell_type": "code",
   "execution_count": null,
   "id": "5327e204",
   "metadata": {
    "id": "5327e204"
   },
   "outputs": [],
   "source": []
  },
  {
   "cell_type": "code",
   "execution_count": null,
   "id": "7bc921f9",
   "metadata": {
    "id": "7bc921f9"
   },
   "outputs": [],
   "source": []
  },
  {
   "cell_type": "code",
   "execution_count": null,
   "id": "ed62b0d5",
   "metadata": {
    "id": "ed62b0d5"
   },
   "outputs": [],
   "source": []
  },
  {
   "cell_type": "code",
   "execution_count": null,
   "id": "1c82cfd3",
   "metadata": {
    "id": "1c82cfd3"
   },
   "outputs": [],
   "source": []
  }
 ],
 "metadata": {
  "colab": {
   "provenance": []
  },
  "kernelspec": {
   "display_name": "Python 3",
   "language": "python",
   "name": "python3"
  },
  "language_info": {
   "codemirror_mode": {
    "name": "ipython",
    "version": 3
   },
   "file_extension": ".py",
   "mimetype": "text/x-python",
   "name": "python",
   "nbconvert_exporter": "python",
   "pygments_lexer": "ipython3",
   "version": "3.10.0"
  },
  "varInspector": {
   "cols": {
    "lenName": 16,
    "lenType": 16,
    "lenVar": 40
   },
   "kernels_config": {
    "python": {
     "delete_cmd_postfix": "",
     "delete_cmd_prefix": "del ",
     "library": "var_list.py",
     "varRefreshCmd": "print(var_dic_list())"
    },
    "r": {
     "delete_cmd_postfix": ") ",
     "delete_cmd_prefix": "rm(",
     "library": "var_list.r",
     "varRefreshCmd": "cat(var_dic_list()) "
    }
   },
   "types_to_exclude": [
    "module",
    "function",
    "builtin_function_or_method",
    "instance",
    "_Feature"
   ],
   "window_display": false
  }
 },
 "nbformat": 4,
 "nbformat_minor": 5
}
